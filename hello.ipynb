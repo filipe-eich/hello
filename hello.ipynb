{
 "cells": [
  {
   "cell_type": "code",
   "execution_count": 38,
   "id": "448c25c0-2634-48ab-96d9-cd63a23aee65",
   "metadata": {},
   "outputs": [
    {
     "data": {
      "text/plain": [
       "'\\nPrograma: Hello\\nDescrição: imprima na tela a frase \"Hello, World!\"\\nAutor: Filipe Eich\\nData: 25/02/2025\\nVersao: 0.0.3\\n\\n25/02/2025\\n1. Nesta versão, o usuário poderá entrar com seu nome para ser cumprimentado pelo programa.\\n'"
      ]
     },
     "execution_count": 38,
     "metadata": {},
     "output_type": "execute_result"
    }
   ],
   "source": [
    "\"\"\"\n",
    "Programa: Hello\n",
    "Descrição: imprima na tela a frase \"Hello, World!\"\n",
    "Autor: Filipe Eich\n",
    "Data: 25/02/2025\n",
    "Versao: 0.0.3\n",
    "\n",
    "25/02/2025\n",
    "1. Nesta versão, o usuário poderá entrar com seu nome para ser cumprimentado pelo programa.\n",
    "\"\"\"\n"
   ]
  },
  {
   "cell_type": "code",
   "execution_count": 91,
   "id": "894fd8a0-64c7-4b54-8659-5d44615f515f",
   "metadata": {},
   "outputs": [],
   "source": [
    "#Alocaçao de memoria\n",
    "\n",
    "nome_usuario=\"\"\n",
    "\n",
    "frase = \"Hello, \""
   ]
  },
  {
   "cell_type": "code",
   "execution_count": 93,
   "id": "69533df8-fc7f-49b8-b32f-92411efd25d3",
   "metadata": {
    "scrolled": true
   },
   "outputs": [
    {
     "name": "stdin",
     "output_type": "stream",
     "text": [
      "\n",
      "Qual o seu nome:  eich\n"
     ]
    }
   ],
   "source": [
    "#Entrada de dados\n",
    "\n",
    "nome_usuario = input(\"\\nQual o seu nome: \")\n",
    "\n"
   ]
  },
  {
   "cell_type": "code",
   "execution_count": 95,
   "id": "9ec6182e-f888-4622-8308-4ecf55fffcc7",
   "metadata": {},
   "outputs": [],
   "source": [
    "# Processamento de dados\n",
    "frase = f\"Hello, {nome_usuario}\""
   ]
  },
  {
   "cell_type": "code",
   "execution_count": 97,
   "id": "23ca565b-9252-4690-983f-980220c1d4f4",
   "metadata": {},
   "outputs": [
    {
     "name": "stdout",
     "output_type": "stream",
     "text": [
      "Hello, eich\n"
     ]
    }
   ],
   "source": [
    "#Saida de dados\n",
    "\n",
    "#print(\"Hello, World!\")\n",
    "\n",
    "print(frase)"
   ]
  },
  {
   "cell_type": "code",
   "execution_count": null,
   "id": "5963554e-b214-463f-820b-86e8ba70fe6c",
   "metadata": {},
   "outputs": [],
   "source": []
  }
 ],
 "metadata": {
  "kernelspec": {
   "display_name": "Python [conda env:base] *",
   "language": "python",
   "name": "conda-base-py"
  },
  "language_info": {
   "codemirror_mode": {
    "name": "ipython",
    "version": 3
   },
   "file_extension": ".py",
   "mimetype": "text/x-python",
   "name": "python",
   "nbconvert_exporter": "python",
   "pygments_lexer": "ipython3",
   "version": "3.12.7"
  }
 },
 "nbformat": 4,
 "nbformat_minor": 5
}
